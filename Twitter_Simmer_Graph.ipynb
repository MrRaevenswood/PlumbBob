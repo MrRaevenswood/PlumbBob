{
  "nbformat": 4,
  "nbformat_minor": 0,
  "metadata": {
    "colab": {
      "name": "Twitter Simmer Graph.ipynb",
      "provenance": [],
      "collapsed_sections": [],
      "toc_visible": true,
      "include_colab_link": true
    },
    "kernelspec": {
      "display_name": "Python 3",
      "name": "python3"
    }
  },
  "cells": [
    {
      "cell_type": "markdown",
      "metadata": {
        "id": "view-in-github",
        "colab_type": "text"
      },
      "source": [
        "<a href=\"https://colab.research.google.com/github/MrRaevenswood/PlumbBob/blob/main/Twitter_Simmer_Graph.ipynb\" target=\"_parent\"><img src=\"https://colab.research.google.com/assets/colab-badge.svg\" alt=\"Open In Colab\"/></a>"
      ]
    },
    {
      "cell_type": "markdown",
      "metadata": {
        "id": "0kaEef-VWT2x"
      },
      "source": [
        "# Twitter Popular Simmer Friend Network Analysis\n",
        "\n",
        "In this notebook, we will explore data on Popular Simmer Twitter data including the twitter accounts they follow and activity statistics of their account.\n",
        "\n",
        "It is my intention to see if we can predict the amount of followers that a twitter account will have, in the Sims community, by their position in this network. "
      ]
    },
    {
      "cell_type": "markdown",
      "metadata": {
        "id": "Fg2PjBpoE0Z3"
      },
      "source": [
        "Install the following, using 'pip install' command, after running the notebook the first time.\r\n",
        "\r\n",
        "*   econml\r\n",
        "*   dowhy\r\n",
        "*   networkit\r\n",
        "\r\n",
        "Restart the runtime afterwards or you will get the following error:\r\n",
        "* ImportError: cannot import name 'values_from_object'\r\n",
        "\r\n",
        "\r\n",
        "\r\n",
        "\r\n",
        "\r\n",
        "\r\n",
        "\r\n",
        "\r\n",
        "\r\n",
        "\r\n"
      ]
    },
    {
      "cell_type": "code",
      "metadata": {
        "colab": {
          "base_uri": "https://localhost:8080/"
        },
        "id": "xakzjB8s3gng",
        "outputId": "6c49fc4f-d734-4fcd-80aa-22874870f98b"
      },
      "source": [
        "from google.colab import drive\n",
        "drive.mount('/content/drive') "
      ],
      "execution_count": null,
      "outputs": [
        {
          "output_type": "stream",
          "text": [
            "Mounted at /content/drive\n"
          ],
          "name": "stdout"
        }
      ]
    },
    {
      "cell_type": "markdown",
      "metadata": {
        "id": "LPMpi5W0WT22"
      },
      "source": [
        "## Data Preparation Phase"
      ]
    },
    {
      "cell_type": "code",
      "metadata": {
        "id": "NWx2Q2Q2WT24"
      },
      "source": [
        "import networkit as nk                                            \n",
        "import networkx as nx\n",
        "import pydot\n",
        "import json\n",
        "import pandas as pd\n",
        "import numpy as np\n",
        "import pytz\n",
        "import matplotlib.pyplot as plt\n",
        "import econml\n",
        "from econml.dml import ForestDMLCateEstimator\n",
        "import dowhy\n",
        "from dowhy import CausalModel, plotter\n",
        "from datetime import datetime, timezone\n",
        "\n",
        "import logging\n",
        "logger = logging.getLogger()\n",
        "logger.setLevel(logging.CRITICAL)\n",
        "\n",
        "from sklearn.decomposition import PCA\n",
        "from sklearn import preprocessing\n",
        "from sklearn.preprocessing import PowerTransformer, PolynomialFeatures\n",
        "from sklearn.model_selection import train_test_split, RandomizedSearchCV\n",
        "from sklearn.metrics import mean_absolute_error, mean_squared_error, explained_variance_score, max_error, r2_score\n",
        "from sklearn.linear_model import ElasticNetCV\n",
        "from sklearn.ensemble import RandomForestRegressor\n",
        "from sklearn.neighbors import LocalOutlierFactor\n",
        "\n",
        "from bokeh.io import output_notebook\n",
        "import bokeh.models as bmo\n",
        "from bokeh.models.sources import ColumnDataSource\n",
        "from bokeh.models import (BoxSelectTool, Circle, CircleCross,EdgesAndLinkedNodes, HoverTool,\n",
        "                          MultiLine, NodesAndLinkedEdges, Plot, Range1d,\n",
        "                 BoxSelectTool,LassoSelectTool,WheelZoomTool, BoxZoomTool, CategoricalColorMapper)\n",
        "from bokeh.palettes import Spectral4, d3\n",
        "import bokeh.plotting as bpl\n",
        "from bokeh.plotting import from_networkx, figure, show\n",
        "from bokeh.transform import factor_cmap, linear_cmap\n",
        "from bokeh.resources import INLINE\n",
        "import bokeh.io\n",
        "\n",
        "bokeh.io.output_notebook(INLINE)"
      ],
      "execution_count": null,
      "outputs": []
    },
    {
      "cell_type": "markdown",
      "metadata": {
        "id": "IxmOCqc_WT28"
      },
      "source": [
        "### Load JSON Twitter Data, Create NetworkX Graph, and Compute NetworkIt Centrality Scores\n",
        "\n",
        "The Twitter Data that was gathered consists of over 30 accounts that were manually identified to be that of Popular accounts within the Simmer community. With these initial accounts, we were able to then get the accounts that those Popular Simmer accounts follow, known in the Twitter API as 'friends'. \n",
        "\n",
        "The Intial NetworkX Graph is then constructed from the JSON data and converted into a NetworkIt Graph to compute centrality scores. While NetworkX has several centrality score methods to use, they were too slow for this use case and so NetworkIt was used for efficient computation. "
      ]
    },
    {
      "cell_type": "code",
      "metadata": {
        "id": "B88B__R9WT29"
      },
      "source": [
        "#Grab Twitter Simmer JSON data for Popular Simmers and those they follow\n",
        "popularSimmers = []\n",
        "with open('/content/drive/MyDrive/Plumbob/SimmersAndFriends/twitterPopularSimmer.json') as f:\n",
        "    for jsonObj in f:\n",
        "        popularSimmerDict = json.loads(jsonObj)\n",
        "        popularSimmers.append(popularSimmerDict)\n",
        "\n",
        "popularSimmersFriends = []\n",
        "with open('/content/drive/MyDrive/Plumbob/SimmersAndFriends/twitterPopularSimmerFriends.json') as f:\n",
        "    for jsonObj in f:\n",
        "        popularSimmersFriendsDict = json.loads(jsonObj)\n",
        "        popularSimmersFriends.append(popularSimmersFriendsDict)\n",
        "\n",
        "popularSimmers = pd.DataFrame(popularSimmers)\n",
        "popularSimmersFriends = pd.DataFrame(popularSimmersFriends)"
      ],
      "execution_count": null,
      "outputs": []
    },
    {
      "cell_type": "code",
      "metadata": {
        "id": "wqToHtwuWT2-"
      },
      "source": [
        "#Construct NetworkX graph connecting popular simmers to accounts they follow\n",
        "friendGraph = nx.Graph()\n",
        "\n",
        "for index,popularSimmer in popularSimmers.iterrows():\n",
        "    popularSimmerName = popularSimmer['screen_name']\n",
        "    popularSimmerId = popularSimmer['id']\n",
        "    friendGraph.add_node(popularSimmerName)\n",
        "    \n",
        "    #Links the Twitter Popular Simmer Account account to all accounts that he/she follows\n",
        "    friendsOfSimmer = popularSimmersFriends.loc[popularSimmersFriends['popularSimmerId'] == popularSimmerId]\n",
        "\n",
        "    for index,friend in friendsOfSimmer.iterrows():\n",
        "        friendName = friend['screen_name']\n",
        "        if friendGraph.has_node(friendName):\n",
        "            friendGraph.add_edge(popularSimmerName, friendName)\n",
        "        else:\n",
        "            friendGraph.add_node(popularSimmerName)\n",
        "            friendGraph.add_edge(popularSimmerName, friendName)"
      ],
      "execution_count": null,
      "outputs": []
    },
    {
      "cell_type": "code",
      "metadata": {
        "id": "EU7SNOzh_nPU"
      },
      "source": [
        "#Get count of amount of popular simmers that each individual account is followed by\r\n",
        "allSimmers = popularSimmersFriends.screen_name.unique()\r\n",
        "edgeCountToPopularSimmers = {}\r\n",
        "for simmer in allSimmers:\r\n",
        "  edgeCount = 0\r\n",
        "  for popularSimmer in popularSimmers.screen_name.unique():\r\n",
        "    edgeCount = edgeCount + friendGraph.number_of_edges(simmer, popularSimmer)\r\n",
        "  \r\n",
        "  edgeCountToPopularSimmers[simmer] = edgeCount"
      ],
      "execution_count": null,
      "outputs": []
    },
    {
      "cell_type": "code",
      "metadata": {
        "id": "cpBNq6wEWT2_"
      },
      "source": [
        "#Convert NetworkX Graph to NetworkIt, then compute centrality scores\n",
        "friendGraphNk = nk.nxadapter.nx2nk(friendGraph)\n",
        "\n",
        "ec = nk.centrality.EigenvectorCentrality(friendGraphNk)\n",
        "ec.run()\n",
        "eigenDf = pd.DataFrame(ec.ranking(), columns=['nodeId','EigenVectorCentrality'])\n",
        "\n",
        "bc = nk.centrality.Betweenness(friendGraphNk)\n",
        "bc.run()\n",
        "betDf = pd.DataFrame(bc.ranking(), columns=['nodeId', 'BetweenessCentrality'])\n",
        "\n",
        "hc = nk.centrality.HarmonicCloseness(friendGraphNk,True)\n",
        "hc.run()\n",
        "harmonDf = pd.DataFrame(hc.ranking(), columns=['nodeId', 'HarmonicClosenessCentrality'])\n",
        "\n",
        "c = nk.centrality.Closeness(friendGraphNk,False, nk.centrality.ClosenessVariant.Generalized)\n",
        "c.run()\n",
        "closeDf = pd.DataFrame(c.ranking(), columns=['nodeId', 'ClosenessCentrality'])\n",
        "\n",
        "dc = nk.centrality.DegreeCentrality(friendGraphNk)\n",
        "dc.run()\n",
        "degrDf = pd.DataFrame(dc.ranking(), columns=['nodeId', 'DegreeCentrality'])\n",
        "\n",
        "pr = nk.centrality.PageRank(friendGraphNk)\n",
        "pr.run()\n",
        "pageDf = pd.DataFrame(pr.ranking(), columns=['nodeId', 'PageRank'])\n",
        "\n",
        "kc = nk.centrality.KatzCentrality(friendGraphNk)\n",
        "kc.run()\n",
        "katzDf = pd.DataFrame(kc.ranking(), columns=['nodeId', 'KatzCentrality'])\n",
        "\n",
        "lc = nk.centrality.LocalClusteringCoefficient(friendGraphNk)\n",
        "lc.run()\n",
        "localDf = pd.DataFrame(lc.ranking(), columns=['nodeId', 'LocalClusteringCoefficient'])"
      ],
      "execution_count": null,
      "outputs": []
    },
    {
      "cell_type": "markdown",
      "metadata": {
        "id": "yLeD6ujTWT2_"
      },
      "source": [
        "### Merge Centrality Scores with Twitter Account Statistics \r\n",
        "\r\n",
        "This section prepares the data by combineing the data to one data frame for further processing. \r\n",
        "\r\n",
        "There are three areas of note below:\r\n",
        "*   Nodes between the NetworkX and Networkit were connected using code copied from the [networkit source code](https://github.com/networkit/networkit/blob/Dev/networkit/nxadapter.py#L29). This was due to the fact there was no current method that could be called to link the nodes. \r\n",
        "\r\n",
        "*   Pallette of Colors generated for each level of connection to each popular simmer.\r\n",
        "*   Removal of the nodes with a DegreeCentrality equal or less than 1 due to practical constraints of cloud and local computer resources.\r\n",
        "\r\n"
      ]
    },
    {
      "cell_type": "code",
      "metadata": {
        "id": "_1pIUhymWT3A"
      },
      "source": [
        "friendGraphStats = pd.merge(eigenDf, betDf, left_on='nodeId', right_on='nodeId')\n",
        "friendGraphStats = pd.merge(friendGraphStats, harmonDf, left_on='nodeId', right_on='nodeId')\n",
        "friendGraphStats = pd.merge(friendGraphStats, closeDf, left_on='nodeId', right_on='nodeId')\n",
        "friendGraphStats = pd.merge(friendGraphStats, degrDf, left_on='nodeId', right_on='nodeId')\n",
        "friendGraphStats = pd.merge(friendGraphStats, pageDf, left_on='nodeId', right_on='nodeId')\n",
        "friendGraphStats = pd.merge(friendGraphStats, katzDf, left_on='nodeId', right_on='nodeId')\n",
        "friendGraphStats = pd.merge(friendGraphStats, localDf, left_on='nodeId', right_on='nodeId')\n",
        "\n",
        "#We are only interested in nodes that are connected to more than one other node\n",
        "friendGraphStats = friendGraphStats[friendGraphStats['DegreeCentrality'] > 1]"
      ],
      "execution_count": null,
      "outputs": []
    },
    {
      "cell_type": "code",
      "metadata": {
        "id": "zU3dwTndWT3B"
      },
      "source": [
        "#Remark that this is taken straight from networkit source code for the conversion of network x to network it method\n",
        "idmap = dict((id, u) for (id, u) in zip(friendGraph.nodes(), range(friendGraph.number_of_nodes())))\n",
        "statsIndex = friendGraphStats.index\n",
        "\n",
        "friendGraphStats.insert(1,'SimmerName','',True)\n",
        "friendGraphStats.insert(2,'followers_count',np.int64(0),True)\n",
        "friendGraphStats.insert(3,'friends_count',np.int64(0),True)\n",
        "friendGraphStats.insert(4,'listed_count',np.int64(0),True)\n",
        "friendGraphStats.insert(5,'created_at','',True)\n",
        "friendGraphStats.insert(6,'account_age_in_days',0,True)\n",
        "friendGraphStats.insert(7,'favourites_count',np.int64(0),True)\n",
        "friendGraphStats.insert(8,'verified',False,True)\n",
        "friendGraphStats.insert(9,'statuses_count',np.int64(0),True)\n",
        "friendGraphStats.insert(10,'edgesToPopularSimmers', np.int64(0),True)\n",
        "\n",
        "#Prepare for Bokeh Graph Later\n",
        "edgeCountDf = pd.DataFrame.from_dict(edgeCountToPopularSimmers,orient='index',columns=['edgeCount']) \n",
        "uniqEdgeCounts = edgeCountDf.edgeCount.unique()\n",
        "palette = bokeh.palettes.inferno(len(uniqEdgeCounts))\n",
        "edgeCountColor = dict(zip(uniqEdgeCounts,palette))\n",
        "nodeColor = {}\n",
        "nodeEdgeCount = {}\n",
        "\n",
        "localTimezone = pytz.timezone('America/Los_Angeles')\n",
        "\n",
        "for simmerName in idmap:\n",
        "    simmerNodeId = idmap.get(simmerName)\n",
        "    condition = friendGraphStats['nodeId'] == simmerNodeId\n",
        "    simmerIndex = statsIndex[condition]\n",
        "    simmer = popularSimmers.loc[popularSimmers['screen_name'] == simmerName].copy()\n",
        "    \n",
        "    if simmerIndex.empty:\n",
        "        continue\n",
        "    elif simmer.size == 0:\n",
        "        simmer = popularSimmersFriends.loc[popularSimmersFriends['screen_name'] == simmerName].copy()\n",
        "        \n",
        "    if simmer.size > 1:\n",
        "        simmer.loc[:,'entities'] = simmer['entities'].astype(str)\n",
        "        simmer.loc[:,'status'] = simmer['status'].astype(str)\n",
        "        simmer = simmer.head(1)\n",
        "    elif simmer.size == 0:\n",
        "        print(simmer)\n",
        "        continue\n",
        "    \n",
        "    simmer.index = ['row0']\n",
        "\n",
        "    account_age_in_days = datetime.now(pytz.utc) - datetime.strptime(simmer.loc['row0','created_at'],'%a %b %d %H:%M:%S +0000 %Y').astimezone(pytz.UTC)\n",
        "    \n",
        "    friendGraphStats.loc[simmerIndex[0],'SimmerName'] = simmerName   \n",
        "    friendGraphStats.loc[simmerIndex[0], 'followers_count'] = simmer.loc['row0','followers_count']\n",
        "    friendGraphStats.loc[simmerIndex[0], 'friends_count'] = simmer.loc['row0','friends_count']\n",
        "    friendGraphStats.loc[simmerIndex[0], 'listed_count'] = simmer.loc['row0', 'listed_count']\n",
        "    friendGraphStats.loc[simmerIndex[0], 'created_at'] = simmer.loc['row0', 'created_at']\n",
        "    friendGraphStats.loc[simmerIndex[0], 'account_age_in_days'] = account_age_in_days.days\n",
        "    friendGraphStats.loc[simmerIndex[0], 'favourites_count'] = simmer.loc['row0', 'favourites_count']\n",
        "    friendGraphStats.loc[simmerIndex[0], 'verified'] = simmer.loc['row0', 'verified']\n",
        "    friendGraphStats.loc[simmerIndex[0], 'statuses_count'] = simmer.loc['row0', 'statuses_count']\n",
        "\n",
        "    edgeToPop = edgeCountDf.loc[simmerName,'edgeCount']\n",
        "    friendGraphStats.loc[simmerIndex[0], 'edgesToPopularSimmers'] = edgeToPop\n",
        "    nodeColor[simmerName] = edgeCountColor.get(edgeToPop)\n",
        "    nodeEdgeCount[simmerName] = str(edgeToPop)\n"
      ],
      "execution_count": null,
      "outputs": []
    },
    {
      "cell_type": "markdown",
      "metadata": {
        "id": "HJ4_oZAuWT3H"
      },
      "source": [
        "### Data Cleaning\n",
        "\n",
        "Check for outliers, remove strongly correlated features, check for nulls, and standardize data."
      ]
    },
    {
      "cell_type": "code",
      "metadata": {
        "colab": {
          "base_uri": "https://localhost:8080/"
        },
        "id": "tdt_PsYtWT3M",
        "outputId": "49c2d85b-7d18-4311-a6f0-570fd4642bd8"
      },
      "source": [
        "outlierDetection = LocalOutlierFactor()\n",
        "IsInliner = outlierDetection.fit_predict(friendGraphStats.drop(columns=['SimmerName','created_at']))\n",
        "friendGraphStats['IsInLiner'] = IsInliner\n",
        "\n",
        "inliners = friendGraphStats.loc[friendGraphStats['IsInLiner'] == -1]\n",
        "outliners = friendGraphStats.loc[friendGraphStats['IsInLiner'] == 1]\n",
        "\n",
        "#While there are a significant amount of outliers, they were not removed due to the source of the data.\n",
        "#As the data accurately reflects the friend's network as per the Twitter API, I kept all of the observations.\n",
        "print(inliners.shape)\n",
        "print(outliners.shape)"
      ],
      "execution_count": null,
      "outputs": [
        {
          "output_type": "stream",
          "text": [
            "(524, 20)\n",
            "(13117, 20)\n"
          ],
          "name": "stdout"
        }
      ]
    },
    {
      "cell_type": "code",
      "metadata": {
        "colab": {
          "base_uri": "https://localhost:8080/"
        },
        "id": "iMTnZKHeWT3N",
        "outputId": "760c4402-6b59-4310-fb4e-0cc60f615ddb"
      },
      "source": [
        "friendGraphNaNCheck = friendGraphStats.isnull()\n",
        "friendGraphNaNCheck.any(None)"
      ],
      "execution_count": null,
      "outputs": [
        {
          "output_type": "execute_result",
          "data": {
            "text/plain": [
              "False"
            ]
          },
          "metadata": {
            "tags": []
          },
          "execution_count": 32
        }
      ]
    },
    {
      "cell_type": "code",
      "metadata": {
        "colab": {
          "base_uri": "https://localhost:8080/",
          "height": 600
        },
        "id": "pRAeTHocWT3N",
        "scrolled": true,
        "outputId": "de39405a-6a81-43d6-fa6c-22396a6be846"
      },
      "source": [
        "corrMatrix = pd.DataFrame(friendGraphStats.corr())\n",
        "corrMatrix"
      ],
      "execution_count": null,
      "outputs": [
        {
          "output_type": "execute_result",
          "data": {
            "text/html": [
              "<div>\n",
              "<style scoped>\n",
              "    .dataframe tbody tr th:only-of-type {\n",
              "        vertical-align: middle;\n",
              "    }\n",
              "\n",
              "    .dataframe tbody tr th {\n",
              "        vertical-align: top;\n",
              "    }\n",
              "\n",
              "    .dataframe thead th {\n",
              "        text-align: right;\n",
              "    }\n",
              "</style>\n",
              "<table border=\"1\" class=\"dataframe\">\n",
              "  <thead>\n",
              "    <tr style=\"text-align: right;\">\n",
              "      <th></th>\n",
              "      <th>nodeId</th>\n",
              "      <th>followers_count</th>\n",
              "      <th>friends_count</th>\n",
              "      <th>listed_count</th>\n",
              "      <th>account_age_in_days</th>\n",
              "      <th>favourites_count</th>\n",
              "      <th>verified</th>\n",
              "      <th>statuses_count</th>\n",
              "      <th>edgesToPopularSimmers</th>\n",
              "      <th>EigenVectorCentrality</th>\n",
              "      <th>BetweenessCentrality</th>\n",
              "      <th>HarmonicClosenessCentrality</th>\n",
              "      <th>ClosenessCentrality</th>\n",
              "      <th>DegreeCentrality</th>\n",
              "      <th>PageRank</th>\n",
              "      <th>KatzCentrality</th>\n",
              "      <th>LocalClusteringCoefficient</th>\n",
              "      <th>IsInLiner</th>\n",
              "    </tr>\n",
              "  </thead>\n",
              "  <tbody>\n",
              "    <tr>\n",
              "      <th>nodeId</th>\n",
              "      <td>1.000000</td>\n",
              "      <td>-0.013411</td>\n",
              "      <td>0.002485</td>\n",
              "      <td>-0.000352</td>\n",
              "      <td>0.246260</td>\n",
              "      <td>-0.123618</td>\n",
              "      <td>0.104615</td>\n",
              "      <td>-0.023744</td>\n",
              "      <td>-0.313808</td>\n",
              "      <td>-0.252832</td>\n",
              "      <td>-0.063588</td>\n",
              "      <td>-0.435274</td>\n",
              "      <td>-0.423379</td>\n",
              "      <td>-0.086449</td>\n",
              "      <td>-0.077554</td>\n",
              "      <td>NaN</td>\n",
              "      <td>-0.329289</td>\n",
              "      <td>0.070500</td>\n",
              "    </tr>\n",
              "    <tr>\n",
              "      <th>followers_count</th>\n",
              "      <td>-0.013411</td>\n",
              "      <td>1.000000</td>\n",
              "      <td>0.124223</td>\n",
              "      <td>0.830630</td>\n",
              "      <td>0.115249</td>\n",
              "      <td>-0.025724</td>\n",
              "      <td>0.235063</td>\n",
              "      <td>0.038932</td>\n",
              "      <td>0.049626</td>\n",
              "      <td>0.024856</td>\n",
              "      <td>-0.003269</td>\n",
              "      <td>0.031233</td>\n",
              "      <td>0.035027</td>\n",
              "      <td>-0.000697</td>\n",
              "      <td>-0.001439</td>\n",
              "      <td>NaN</td>\n",
              "      <td>0.084521</td>\n",
              "      <td>-0.121330</td>\n",
              "    </tr>\n",
              "    <tr>\n",
              "      <th>friends_count</th>\n",
              "      <td>0.002485</td>\n",
              "      <td>0.124223</td>\n",
              "      <td>1.000000</td>\n",
              "      <td>0.153225</td>\n",
              "      <td>0.059455</td>\n",
              "      <td>0.059232</td>\n",
              "      <td>0.083886</td>\n",
              "      <td>0.082203</td>\n",
              "      <td>0.004944</td>\n",
              "      <td>0.003035</td>\n",
              "      <td>-0.001037</td>\n",
              "      <td>0.007495</td>\n",
              "      <td>0.007608</td>\n",
              "      <td>-0.001070</td>\n",
              "      <td>-0.000991</td>\n",
              "      <td>NaN</td>\n",
              "      <td>0.004079</td>\n",
              "      <td>-0.194665</td>\n",
              "    </tr>\n",
              "    <tr>\n",
              "      <th>listed_count</th>\n",
              "      <td>-0.000352</td>\n",
              "      <td>0.830630</td>\n",
              "      <td>0.153225</td>\n",
              "      <td>1.000000</td>\n",
              "      <td>0.117425</td>\n",
              "      <td>-0.022982</td>\n",
              "      <td>0.208542</td>\n",
              "      <td>0.060933</td>\n",
              "      <td>0.028710</td>\n",
              "      <td>0.011801</td>\n",
              "      <td>-0.003051</td>\n",
              "      <td>0.010960</td>\n",
              "      <td>0.015151</td>\n",
              "      <td>-0.001668</td>\n",
              "      <td>-0.002060</td>\n",
              "      <td>NaN</td>\n",
              "      <td>0.055635</td>\n",
              "      <td>-0.104887</td>\n",
              "    </tr>\n",
              "    <tr>\n",
              "      <th>account_age_in_days</th>\n",
              "      <td>0.246260</td>\n",
              "      <td>0.115249</td>\n",
              "      <td>0.059455</td>\n",
              "      <td>0.117425</td>\n",
              "      <td>1.000000</td>\n",
              "      <td>0.098984</td>\n",
              "      <td>0.306208</td>\n",
              "      <td>0.243712</td>\n",
              "      <td>-0.020153</td>\n",
              "      <td>-0.023662</td>\n",
              "      <td>0.000628</td>\n",
              "      <td>-0.079426</td>\n",
              "      <td>-0.087641</td>\n",
              "      <td>-0.002496</td>\n",
              "      <td>-0.001070</td>\n",
              "      <td>NaN</td>\n",
              "      <td>-0.012979</td>\n",
              "      <td>-0.016024</td>\n",
              "    </tr>\n",
              "    <tr>\n",
              "      <th>favourites_count</th>\n",
              "      <td>-0.123618</td>\n",
              "      <td>-0.025724</td>\n",
              "      <td>0.059232</td>\n",
              "      <td>-0.022982</td>\n",
              "      <td>0.098984</td>\n",
              "      <td>1.000000</td>\n",
              "      <td>0.021295</td>\n",
              "      <td>0.304086</td>\n",
              "      <td>0.053381</td>\n",
              "      <td>0.058928</td>\n",
              "      <td>0.050475</td>\n",
              "      <td>0.109910</td>\n",
              "      <td>0.094784</td>\n",
              "      <td>0.050098</td>\n",
              "      <td>0.052730</td>\n",
              "      <td>NaN</td>\n",
              "      <td>0.074841</td>\n",
              "      <td>-0.101068</td>\n",
              "    </tr>\n",
              "    <tr>\n",
              "      <th>verified</th>\n",
              "      <td>0.104615</td>\n",
              "      <td>0.235063</td>\n",
              "      <td>0.083886</td>\n",
              "      <td>0.208542</td>\n",
              "      <td>0.306208</td>\n",
              "      <td>0.021295</td>\n",
              "      <td>1.000000</td>\n",
              "      <td>0.146175</td>\n",
              "      <td>0.025284</td>\n",
              "      <td>0.003602</td>\n",
              "      <td>-0.010658</td>\n",
              "      <td>-0.000457</td>\n",
              "      <td>0.013976</td>\n",
              "      <td>-0.010146</td>\n",
              "      <td>-0.010466</td>\n",
              "      <td>NaN</td>\n",
              "      <td>0.091924</td>\n",
              "      <td>-0.080825</td>\n",
              "    </tr>\n",
              "    <tr>\n",
              "      <th>statuses_count</th>\n",
              "      <td>-0.023744</td>\n",
              "      <td>0.038932</td>\n",
              "      <td>0.082203</td>\n",
              "      <td>0.060933</td>\n",
              "      <td>0.243712</td>\n",
              "      <td>0.304086</td>\n",
              "      <td>0.146175</td>\n",
              "      <td>1.000000</td>\n",
              "      <td>0.028576</td>\n",
              "      <td>0.024629</td>\n",
              "      <td>0.013125</td>\n",
              "      <td>0.048447</td>\n",
              "      <td>0.037720</td>\n",
              "      <td>0.014080</td>\n",
              "      <td>0.014118</td>\n",
              "      <td>NaN</td>\n",
              "      <td>0.031768</td>\n",
              "      <td>-0.202848</td>\n",
              "    </tr>\n",
              "    <tr>\n",
              "      <th>edgesToPopularSimmers</th>\n",
              "      <td>-0.313808</td>\n",
              "      <td>0.049626</td>\n",
              "      <td>0.004944</td>\n",
              "      <td>0.028710</td>\n",
              "      <td>-0.020153</td>\n",
              "      <td>0.053381</td>\n",
              "      <td>0.025284</td>\n",
              "      <td>0.028576</td>\n",
              "      <td>1.000000</td>\n",
              "      <td>0.864975</td>\n",
              "      <td>0.363257</td>\n",
              "      <td>0.762420</td>\n",
              "      <td>0.733893</td>\n",
              "      <td>0.450194</td>\n",
              "      <td>0.408024</td>\n",
              "      <td>NaN</td>\n",
              "      <td>0.457852</td>\n",
              "      <td>-0.254923</td>\n",
              "    </tr>\n",
              "    <tr>\n",
              "      <th>EigenVectorCentrality</th>\n",
              "      <td>-0.252832</td>\n",
              "      <td>0.024856</td>\n",
              "      <td>0.003035</td>\n",
              "      <td>0.011801</td>\n",
              "      <td>-0.023662</td>\n",
              "      <td>0.058928</td>\n",
              "      <td>0.003602</td>\n",
              "      <td>0.024629</td>\n",
              "      <td>0.864975</td>\n",
              "      <td>1.000000</td>\n",
              "      <td>0.686741</td>\n",
              "      <td>0.712653</td>\n",
              "      <td>0.687765</td>\n",
              "      <td>0.790374</td>\n",
              "      <td>0.731819</td>\n",
              "      <td>NaN</td>\n",
              "      <td>0.293505</td>\n",
              "      <td>-0.241741</td>\n",
              "    </tr>\n",
              "    <tr>\n",
              "      <th>BetweenessCentrality</th>\n",
              "      <td>-0.063588</td>\n",
              "      <td>-0.003269</td>\n",
              "      <td>-0.001037</td>\n",
              "      <td>-0.003051</td>\n",
              "      <td>0.000628</td>\n",
              "      <td>0.050475</td>\n",
              "      <td>-0.010658</td>\n",
              "      <td>0.013125</td>\n",
              "      <td>0.363257</td>\n",
              "      <td>0.686741</td>\n",
              "      <td>1.000000</td>\n",
              "      <td>0.295072</td>\n",
              "      <td>0.274257</td>\n",
              "      <td>0.977336</td>\n",
              "      <td>0.996536</td>\n",
              "      <td>NaN</td>\n",
              "      <td>-0.016237</td>\n",
              "      <td>-0.144738</td>\n",
              "    </tr>\n",
              "    <tr>\n",
              "      <th>HarmonicClosenessCentrality</th>\n",
              "      <td>-0.435274</td>\n",
              "      <td>0.031233</td>\n",
              "      <td>0.007495</td>\n",
              "      <td>0.010960</td>\n",
              "      <td>-0.079426</td>\n",
              "      <td>0.109910</td>\n",
              "      <td>-0.000457</td>\n",
              "      <td>0.048447</td>\n",
              "      <td>0.762420</td>\n",
              "      <td>0.712653</td>\n",
              "      <td>0.295072</td>\n",
              "      <td>1.000000</td>\n",
              "      <td>0.989687</td>\n",
              "      <td>0.356559</td>\n",
              "      <td>0.328645</td>\n",
              "      <td>NaN</td>\n",
              "      <td>0.543231</td>\n",
              "      <td>-0.187694</td>\n",
              "    </tr>\n",
              "    <tr>\n",
              "      <th>ClosenessCentrality</th>\n",
              "      <td>-0.423379</td>\n",
              "      <td>0.035027</td>\n",
              "      <td>0.007608</td>\n",
              "      <td>0.015151</td>\n",
              "      <td>-0.087641</td>\n",
              "      <td>0.094784</td>\n",
              "      <td>0.013976</td>\n",
              "      <td>0.037720</td>\n",
              "      <td>0.733893</td>\n",
              "      <td>0.687765</td>\n",
              "      <td>0.274257</td>\n",
              "      <td>0.989687</td>\n",
              "      <td>1.000000</td>\n",
              "      <td>0.335716</td>\n",
              "      <td>0.306573</td>\n",
              "      <td>NaN</td>\n",
              "      <td>0.531870</td>\n",
              "      <td>-0.176821</td>\n",
              "    </tr>\n",
              "    <tr>\n",
              "      <th>DegreeCentrality</th>\n",
              "      <td>-0.086449</td>\n",
              "      <td>-0.000697</td>\n",
              "      <td>-0.001070</td>\n",
              "      <td>-0.001668</td>\n",
              "      <td>-0.002496</td>\n",
              "      <td>0.050098</td>\n",
              "      <td>-0.010146</td>\n",
              "      <td>0.014080</td>\n",
              "      <td>0.450194</td>\n",
              "      <td>0.790374</td>\n",
              "      <td>0.977336</td>\n",
              "      <td>0.356559</td>\n",
              "      <td>0.335716</td>\n",
              "      <td>1.000000</td>\n",
              "      <td>0.989043</td>\n",
              "      <td>NaN</td>\n",
              "      <td>0.009479</td>\n",
              "      <td>-0.164688</td>\n",
              "    </tr>\n",
              "    <tr>\n",
              "      <th>PageRank</th>\n",
              "      <td>-0.077554</td>\n",
              "      <td>-0.001439</td>\n",
              "      <td>-0.000991</td>\n",
              "      <td>-0.002060</td>\n",
              "      <td>-0.001070</td>\n",
              "      <td>0.052730</td>\n",
              "      <td>-0.010466</td>\n",
              "      <td>0.014118</td>\n",
              "      <td>0.408024</td>\n",
              "      <td>0.731819</td>\n",
              "      <td>0.996536</td>\n",
              "      <td>0.328645</td>\n",
              "      <td>0.306573</td>\n",
              "      <td>0.989043</td>\n",
              "      <td>1.000000</td>\n",
              "      <td>NaN</td>\n",
              "      <td>0.002565</td>\n",
              "      <td>-0.156343</td>\n",
              "    </tr>\n",
              "    <tr>\n",
              "      <th>KatzCentrality</th>\n",
              "      <td>NaN</td>\n",
              "      <td>NaN</td>\n",
              "      <td>NaN</td>\n",
              "      <td>NaN</td>\n",
              "      <td>NaN</td>\n",
              "      <td>NaN</td>\n",
              "      <td>NaN</td>\n",
              "      <td>NaN</td>\n",
              "      <td>NaN</td>\n",
              "      <td>NaN</td>\n",
              "      <td>NaN</td>\n",
              "      <td>NaN</td>\n",
              "      <td>NaN</td>\n",
              "      <td>NaN</td>\n",
              "      <td>NaN</td>\n",
              "      <td>NaN</td>\n",
              "      <td>NaN</td>\n",
              "      <td>NaN</td>\n",
              "    </tr>\n",
              "    <tr>\n",
              "      <th>LocalClusteringCoefficient</th>\n",
              "      <td>-0.329289</td>\n",
              "      <td>0.084521</td>\n",
              "      <td>0.004079</td>\n",
              "      <td>0.055635</td>\n",
              "      <td>-0.012979</td>\n",
              "      <td>0.074841</td>\n",
              "      <td>0.091924</td>\n",
              "      <td>0.031768</td>\n",
              "      <td>0.457852</td>\n",
              "      <td>0.293505</td>\n",
              "      <td>-0.016237</td>\n",
              "      <td>0.543231</td>\n",
              "      <td>0.531870</td>\n",
              "      <td>0.009479</td>\n",
              "      <td>0.002565</td>\n",
              "      <td>NaN</td>\n",
              "      <td>1.000000</td>\n",
              "      <td>-0.074342</td>\n",
              "    </tr>\n",
              "    <tr>\n",
              "      <th>IsInLiner</th>\n",
              "      <td>0.070500</td>\n",
              "      <td>-0.121330</td>\n",
              "      <td>-0.194665</td>\n",
              "      <td>-0.104887</td>\n",
              "      <td>-0.016024</td>\n",
              "      <td>-0.101068</td>\n",
              "      <td>-0.080825</td>\n",
              "      <td>-0.202848</td>\n",
              "      <td>-0.254923</td>\n",
              "      <td>-0.241741</td>\n",
              "      <td>-0.144738</td>\n",
              "      <td>-0.187694</td>\n",
              "      <td>-0.176821</td>\n",
              "      <td>-0.164688</td>\n",
              "      <td>-0.156343</td>\n",
              "      <td>NaN</td>\n",
              "      <td>-0.074342</td>\n",
              "      <td>1.000000</td>\n",
              "    </tr>\n",
              "  </tbody>\n",
              "</table>\n",
              "</div>"
            ],
            "text/plain": [
              "                               nodeId  ...  IsInLiner\n",
              "nodeId                       1.000000  ...   0.070500\n",
              "followers_count             -0.013411  ...  -0.121330\n",
              "friends_count                0.002485  ...  -0.194665\n",
              "listed_count                -0.000352  ...  -0.104887\n",
              "account_age_in_days          0.246260  ...  -0.016024\n",
              "favourites_count            -0.123618  ...  -0.101068\n",
              "verified                     0.104615  ...  -0.080825\n",
              "statuses_count              -0.023744  ...  -0.202848\n",
              "edgesToPopularSimmers       -0.313808  ...  -0.254923\n",
              "EigenVectorCentrality       -0.252832  ...  -0.241741\n",
              "BetweenessCentrality        -0.063588  ...  -0.144738\n",
              "HarmonicClosenessCentrality -0.435274  ...  -0.187694\n",
              "ClosenessCentrality         -0.423379  ...  -0.176821\n",
              "DegreeCentrality            -0.086449  ...  -0.164688\n",
              "PageRank                    -0.077554  ...  -0.156343\n",
              "KatzCentrality                    NaN  ...        NaN\n",
              "LocalClusteringCoefficient  -0.329289  ...  -0.074342\n",
              "IsInLiner                    0.070500  ...   1.000000\n",
              "\n",
              "[18 rows x 18 columns]"
            ]
          },
          "metadata": {
            "tags": []
          },
          "execution_count": 33
        }
      ]
    },
    {
      "cell_type": "markdown",
      "metadata": {
        "id": "SxFXYArQWT3P"
      },
      "source": [
        "#### On Feature Removals\n",
        "\n",
        "Highly correlated features are shown below:\n",
        "\n",
        "*  Over 0.8\n",
        "> listed_count + followers_count\n",
        "> EigenVectorCentrality + edgesToPopularSimmers\n",
        "> DegreeCentrality + EigenvectorCentrality\n",
        "> EigenVectorCentrality + HarmonicClosenessCentrality\n",
        "> EigenVectorCentrality + DegreeCentrality\n",
        "\n",
        "*   Over 0.9\n",
        "> HarmonicClosenessCentrality + edgesToPopularSimmers\n",
        "> ClosenessCentrality + edgesToPopularSimmer\n",
        "> HarmonicClosenessCentrality + ClosenessCentrality\n",
        "> DegreeCentrality + BetweenessCentrality \n",
        "> PageRank + BetweenessCentrality\n",
        "> PageRank + DegreeCentrality\n",
        "\n",
        "Based on these results, I removed all centrality scores mentioned in the list above except for PageRank. This is also because the correlation between edgesToPopularSimmers and all of other centrality scores, other than PageRank. Given that, I kept the edgesToPopularSimmers as it seems to be a useful proxy for the other centrality scores. As for the KatzCentrality score, that was removed due to NA values. \n",
        "\n",
        "NodeId and SimmerName were removed as they were not useful to the model. Created_at was removed as account_age_in_days was calculated and derived from this feature. \n",
        "\n",
        "A special note needs to be made about the removal of the verified field. Twitter uses follower counts as well as other data points in order to determine whether they should grant verified status to an account. As such, keeping this feature would pollute the model with a feature that contains the follower count.\n",
        "Further information on how twitter makes such a determination can be found [here](https://help.twitter.com/en/managing-your-account/about-twitter-verified-accounts)"
      ]
    },
    {
      "cell_type": "code",
      "metadata": {
        "id": "zYVVZnx1WT3P",
        "scrolled": false
      },
      "source": [
        "x = friendGraphStats.drop(['nodeId','SimmerName','created_at',\n",
        "                           'DegreeCentrality', 'HarmonicClosenessCentrality', 'BetweenessCentrality','verified','EigenVectorCentrality','ClosenessCentrality','KatzCentrality'], 1)\n",
        "\n",
        "#Standardizing the remaining results for the model.\n",
        "pt = PowerTransformer()\n",
        "\n",
        "xWithFollowers = pd.DataFrame(pt.fit_transform(x),columns=x.columns)\n",
        "y = pd.DataFrame(xWithFollowers).iloc[:,0]\n",
        "\n",
        "x = xWithFollowers.drop(['followers_count'],1)\n",
        "\n",
        "x_train, x_test, y_train, y_test = train_test_split(x, y, test_size=0.2, random_state=0)"
      ],
      "execution_count": null,
      "outputs": []
    },
    {
      "cell_type": "markdown",
      "metadata": {
        "id": "015PdPP0WT3S"
      },
      "source": [
        "## Model Selection and Performance Analysis\n",
        "\n",
        "Using the flowchar in the link, https://scikit-learn.org/stable/tutorial/machine_learning_map/, I decided on using the ElasticNetCV and RandomForestRegressor. "
      ]
    },
    {
      "cell_type": "code",
      "metadata": {
        "colab": {
          "base_uri": "https://localhost:8080/",
          "height": 398
        },
        "id": "ImAEy3-vWT3S",
        "outputId": "6ba89aab-5bf6-48fa-d3da-6a974f3e05f1"
      },
      "source": [
        "regr = ElasticNetCV(alphas = np.random.rand(1,100))\n",
        "regr.fit(x_train, y_train)\n",
        "\n",
        "ep = regr.predict(x_test)\n",
        "x_ax = range(len(x_test))\n",
        "\n",
        "print('Mean absolute error: ' + str(mean_absolute_error(y_test, ep)))\n",
        "print('Mean Squared error: ' + str(mean_squared_error(y_test, ep)))\n",
        "print('Explained Variance Score: ' + str(explained_variance_score(y_test, ep))) \n",
        "print('Max error: ' + str(max_error(y_test, ep)))\n",
        "print('R2 Score: ' + str(r2_score(y_test, ep)))\n",
        "print()\n",
        "\n",
        "plt.scatter(x_ax,y_test, color='blue')\n",
        "plt.plot(x_ax,ep, color='red')\n",
        "plt.figure(figsize=(1000,1000))\n",
        "plt.show()"
      ],
      "execution_count": null,
      "outputs": [
        {
          "output_type": "stream",
          "text": [
            "Mean absolute error: 0.712060681906187\n",
            "Mean Squared error: 0.772236879460121\n",
            "Explained Variance Score: 0.25108842051945035\n",
            "Max error: 2.666606894173712\n",
            "R2 Score: 0.2507357079802436\n",
            "\n"
          ],
          "name": "stdout"
        },
        {
          "output_type": "display_data",
          "data": {
            "image/png": "[encoded data removed]",
            "text/plain": [
              "<Figure size 432x288 with 1 Axes>"
            ]
          },
          "metadata": {
            "tags": []
          }
        },
        {
          "output_type": "display_data",
          "data": {
            "text/plain": [
              "<Figure size 72000x72000 with 0 Axes>"
            ]
          },
          "metadata": {
            "tags": []
          }
        }
      ]
    },
    {
      "cell_type": "code",
      "metadata": {
        "colab": {
          "base_uri": "https://localhost:8080/"
        },
        "id": "SLx431NjWT3T",
        "outputId": "aa630dbb-8159-4d68-d1b0-a25646da118d"
      },
      "source": [
        "# Get the best parameters using random grid search for the Random Tree Reggressor\n",
        "n_estimators = [int(x) for x in np.linspace(start = 200, stop = 2000, num = 10)]\n",
        "max_features = ['auto', 'sqrt']\n",
        "max_depth = [int(x) for x in np.linspace(10, 110, num = 11)]\n",
        "max_depth.append(None)\n",
        "min_samples_split = [2, 5, 10]\n",
        "min_samples_leaf = [1, 2, 4]\n",
        "bootstrap = [True, False]\n",
        "random_grid = {'n_estimators': n_estimators,\n",
        "               'max_features': max_features,\n",
        "               'max_depth': max_depth,\n",
        "               'min_samples_split': min_samples_split,\n",
        "               'min_samples_leaf': min_samples_leaf,\n",
        "               'bootstrap': bootstrap}\n",
        "\n",
        "\n",
        "rf = RandomForestRegressor(bootstrap=True,max_samples=1210)\n",
        "rf_random = RandomizedSearchCV(estimator = rf, param_distributions = random_grid, n_iter = 100, cv = 3, verbose=2, random_state=42, n_jobs = -1)\n",
        "rf_random.fit(x_train,y_train)\n",
        "\n",
        "rf_random.best_params_"
      ],
      "execution_count": null,
      "outputs": [
        {
          "output_type": "stream",
          "text": [
            "Fitting 3 folds for each of 100 candidates, totalling 300 fits\n"
          ],
          "name": "stdout"
        },
        {
          "output_type": "stream",
          "text": [
            "[Parallel(n_jobs=-1)]: Using backend LokyBackend with 2 concurrent workers.\n",
            "/usr/local/lib/python3.6/dist-packages/joblib/externals/loky/process_executor.py:691: UserWarning: A worker stopped while some jobs were given to the executor. This can be caused by a too short worker timeout or by a memory leak.\n",
            "  \"timeout or by a memory leak.\", UserWarning\n",
            "[Parallel(n_jobs=-1)]: Done  37 tasks      | elapsed: 20.4min\n",
            "[Parallel(n_jobs=-1)]: Done 158 tasks      | elapsed: 79.4min\n",
            "[Parallel(n_jobs=-1)]: Done 300 out of 300 | elapsed: 133.5min finished\n"
          ],
          "name": "stderr"
        },
        {
          "output_type": "execute_result",
          "data": {
            "text/plain": [
              "{'bootstrap': False,\n",
              " 'max_depth': None,\n",
              " 'max_features': 'sqrt',\n",
              " 'min_samples_leaf': 2,\n",
              " 'min_samples_split': 5,\n",
              " 'n_estimators': 1400}"
            ]
          },
          "metadata": {
            "tags": []
          },
          "execution_count": 39
        }
      ]
    },
    {
      "cell_type": "code",
      "metadata": {
        "colab": {
          "base_uri": "https://localhost:8080/",
          "height": 382
        },
        "id": "VzX7bt1fWT3T",
        "scrolled": true,
        "outputId": "ddb00dea-39ec-46b4-a3cd-62f580e817c3"
      },
      "source": [
        "randRegr = RandomForestRegressor(n_estimators=1400, min_samples_split=2,min_samples_leaf=1,max_features='sqrt',\n",
        "                                 max_depth=100,bootstrap=True,max_samples=2360)\n",
        "randRegr.fit(x_train, y_train)\n",
        "randPre = randRegr.predict(x_test)\n",
        "\n",
        "print('Mean absolute error: ' + str(mean_absolute_error(y_test, randPre)))\n",
        "print('Mean Squared error: ' + str(mean_squared_error(y_test, randPre)))\n",
        "print('Explained Variance Score: ' + str(explained_variance_score(y_test, randPre))) \n",
        "print('Max error: ' + str(max_error(y_test, randPre )))\n",
        "print('R2 Score: ' + str(r2_score(y_test, randPre)))\n",
        "\n",
        "\n",
        "plt.scatter(x_ax,y_test, color='blue')\n",
        "plt.plot(x_ax,randPre, color='red')\n",
        "plt.figure(figsize=(1000,10))\n",
        "plt.show()"
      ],
      "execution_count": null,
      "outputs": [
        {
          "output_type": "stream",
          "text": [
            "Mean absolute error: 0.27573559413944077\n",
            "Mean Squared error: 0.13152357106509913\n",
            "Explained Variance Score: 0.8723892418219639\n",
            "Max error: 2.318841360231308\n",
            "R2 Score: 0.8723890065611783\n"
          ],
          "name": "stdout"
        },
        {
          "output_type": "display_data",
          "data": {
            "image/png": "[encoded data removed]",
            "text/plain": [
              "<Figure size 432x288 with 1 Axes>"
            ]
          },
          "metadata": {
            "tags": []
          }
        },
        {
          "output_type": "display_data",
          "data": {
            "text/plain": [
              "<Figure size 72000x720 with 0 Axes>"
            ]
          },
          "metadata": {
            "tags": []
          }
        }
      ]
    },
    {
      "cell_type": "markdown",
      "metadata": {
        "id": "lAtFsUXKWT3U"
      },
      "source": [
        "#### On Estimator Results\n",
        "\n",
        "The RandomForestRegressor came out with drastically improved performance over the ElasticNetCV. This is even with the fact that both went through a process to find the best parameters to use. \n",
        "\n",
        "Feature Importance of the RandomForestRegressor dispalys the results below. "
      ]
    },
    {
      "cell_type": "code",
      "metadata": {
        "colab": {
          "base_uri": "https://localhost:8080/",
          "height": 178
        },
        "id": "AcxpIMptLf0J",
        "outputId": "fc3b1c55-2734-4f64-afe3-b21b127fe22f"
      },
      "source": [
        "for feature, importance in zip(x.columns, regr.feature_importances_):\r\n",
        "    print('feature: {f}, importance: {i}'.format(f=feature, i=importance))"
      ],
      "execution_count": null,
      "outputs": [
        {
          "output_type": "error",
          "ename": "AttributeError",
          "evalue": "ignored",
          "traceback": [
            "\u001b[0;31m---------------------------------------------------------------------------\u001b[0m",
            "\u001b[0;31mAttributeError\u001b[0m                            Traceback (most recent call last)",
            "\u001b[0;32m<ipython-input-42-7b27cba4dc61>\u001b[0m in \u001b[0;36m<module>\u001b[0;34m()\u001b[0m\n\u001b[0;32m----> 1\u001b[0;31m \u001b[0;32mfor\u001b[0m \u001b[0mfeature\u001b[0m\u001b[0;34m,\u001b[0m \u001b[0mimportance\u001b[0m \u001b[0;32min\u001b[0m \u001b[0mzip\u001b[0m\u001b[0;34m(\u001b[0m\u001b[0mx\u001b[0m\u001b[0;34m.\u001b[0m\u001b[0mcolumns\u001b[0m\u001b[0;34m,\u001b[0m \u001b[0mregr\u001b[0m\u001b[0;34m.\u001b[0m\u001b[0mfeature_importances_\u001b[0m\u001b[0;34m)\u001b[0m\u001b[0;34m:\u001b[0m\u001b[0;34m\u001b[0m\u001b[0;34m\u001b[0m\u001b[0m\n\u001b[0m\u001b[1;32m      2\u001b[0m     \u001b[0mprint\u001b[0m\u001b[0;34m(\u001b[0m\u001b[0;34m'feature: {f}, importance: {i}'\u001b[0m\u001b[0;34m.\u001b[0m\u001b[0mformat\u001b[0m\u001b[0;34m(\u001b[0m\u001b[0mf\u001b[0m\u001b[0;34m=\u001b[0m\u001b[0mfeature\u001b[0m\u001b[0;34m,\u001b[0m \u001b[0mi\u001b[0m\u001b[0;34m=\u001b[0m\u001b[0mimportance\u001b[0m\u001b[0;34m)\u001b[0m\u001b[0;34m)\u001b[0m\u001b[0;34m\u001b[0m\u001b[0;34m\u001b[0m\u001b[0m\n",
            "\u001b[0;31mAttributeError\u001b[0m: 'ElasticNetCV' object has no attribute 'feature_importances_'"
          ]
        }
      ]
    },
    {
      "cell_type": "code",
      "metadata": {
        "id": "jxCls18gWT3U"
      },
      "source": [
        "for feature, importance in zip(x.columns, randRegr.feature_importances_):\n",
        "    print('feature: {f}, importance: {i}'.format(f=feature, i=importance))"
      ],
      "execution_count": null,
      "outputs": []
    },
    {
      "cell_type": "markdown",
      "metadata": {
        "id": "QVcTlj3tWT3U"
      },
      "source": [
        "## Verifying Robustness of Prediction Based on Causal Inference"
      ]
    },
    {
      "cell_type": "markdown",
      "metadata": {
        "id": "UxXEQ_32Lt21"
      },
      "source": [
        "While I was able to get great results with the RandomForestRegressor, I am not convinced that this model will accurately predict the followers from the given data. This is due to fact that this data is just the accounts that the popular simmers follow and not say those who follow them. \r\n",
        "\r\n",
        "Given this, I wanted to test the assumptions of this model and so I decided to run the models against the Causal Inference library doWhy to verifiy my skepticism. "
      ]
    },
    {
      "cell_type": "code",
      "metadata": {
        "id": "atdPO6ZrWT3V",
        "scrolled": true
      },
      "source": [
        "casual_graph =\"\"\"digraph {\n",
        "followers_count[label=\"Followers Count\"];\n",
        "friends_count[label=\"Friends Count\"];\n",
        "listed_count[label=\"Listed Count\"];\n",
        "account_age_in_days[label=\"Age in Days\"];\n",
        "favourites_count[label=\"favourites count\"];\n",
        "statuses_count[label=\"statuses count\"];\n",
        "PageRank[label=\"Page Rank\"];\n",
        "edgesToPopularSimmers[label=\"Edges To Popular Simmers\"]\n",
        "LocalClusteringCoefficient[label=\"LocalClusteringCoefficient\"];\n",
        "friends_count -> followers_count;\n",
        "listed_count -> followers_count;\n",
        "statuses_count -> followers_count;\n",
        "PageRank -> followers_count;\n",
        "favourites_count -> followers_count;\n",
        "account_age_in_days -> followers_count;\n",
        "edgesToPopularSimmers -> followers_count;\n",
        "LocalClusteringCoefficient -> followers_count;\n",
        "}\"\"\"\n",
        "\n",
        "friendGraphModel = CausalModel(data = xWithFollowers, graph=casual_graph.replace(\"\\n\",\" \"),\n",
        "                    treatment=['friends_count', 'listed_count', 'account_age_in_days', \n",
        "                               'favourites_count','statuses_count','PageRank','edgesToPopularSimmers', 'LocalClusteringCoefficient'], outcome='followers_count')"
      ],
      "execution_count": null,
      "outputs": []
    },
    {
      "cell_type": "code",
      "metadata": {
        "id": "Z0g00nqjWT3V"
      },
      "source": [
        "friendGraphModelEstimand = friendGraphModel.identify_effect(proceed_when_unidentifiable=True)\n",
        "friendGraphModelEstimate = friendGraphModel.estimate_effect(friendGraphModelEstimand,\n",
        "                                     method_name=\"backdoor.econml.dml.DMLCateEstimator\",\n",
        "                                     confidence_intervals=False,\n",
        "                                     method_params={\"init_params\":{'model_y':RandomForestRegressor(),\n",
        "                                                              'model_t': RandomForestRegressor(),\n",
        "                                                              \"model_final\":ElasticNetCV(),\n",
        "                                                              'featurizer':PolynomialFeatures(degree=1, include_bias=True)},\n",
        "                                               \"fit_params\":{}\n",
        "                                              })\n",
        "friendGraphModelRandom = friendGraphModel.refute_estimate(friendGraphModelEstimand, friendGraphModelEstimate, method_name=\"random_common_cause\", placebo_type=\"permute\", num_simulations=100)\n",
        "friendGraphModelSubset = friendGraphModel.refute_estimate(friendGraphModelEstimand, friendGraphModelEstimate, method_name=\"data_subset_refuter\", placebo_type=\"permute\", num_simulations=100)\n",
        "friendGraphModelBootstrap = friendGraphModel.refute_estimate(friendGraphModelEstimand, friendGraphModelEstimate, method_name=\"bootstrap_refuter\", placebo_type=\"permute\", num_simulations=100)\n",
        "friendGraphModelUnobserved = friendGraphModel.refute_estimate(friendGraphModelEstimand, friendGraphModelEstimate, method_name=\"add_unobserved_common_cause\",\n",
        "                                     confounders_effect_on_treatment=\"linear\", confounders_effect_on_outcome=\"linear\",\n",
        "                                    effect_strength_on_treatment=0.01, effect_strength_on_outcome=0.02)\n",
        "print(friendGraphModelUnobserved)\n",
        "print(friendGraphModelRandom)\n",
        "print(friendGraphModelSubset)\n",
        "print(friendGraphModelBootstrap)\n"
      ],
      "execution_count": null,
      "outputs": []
    },
    {
      "cell_type": "code",
      "metadata": {
        "id": "7WHn3FqGWT3Y"
      },
      "source": [
        "graph_renderer = from_networkx(friendGraph, nx.fruchterman_reingold_layout,\n",
        "                               scale=1, center=(0,0))"
      ],
      "execution_count": null,
      "outputs": []
    },
    {
      "cell_type": "code",
      "metadata": {
        "id": "tZ6qvYRhFXi8"
      },
      "source": [
        "plot = Plot(plot_width=1000, plot_height=1000, x_range=Range1d(-1.1,1.1),\r\n",
        "           y_range=Range1d(-1.1,1.1))\r\n",
        "plot.title.text = \"Popular Simmer Friend Graph\"\r\n",
        "plot.add_tools(HoverTool(tooltips=None),BoxSelectTool())\r\n",
        "graph_renderer = from_networkx(friendGraph, nx.fruchterman_reingold_layout,\r\n",
        "                                 scale=1, center=(0,0))\r\n",
        "graph_renderer.node_renderer.glyph = Circle(size=5, fill_color=Spectral4[0])\r\n",
        "graph_renderer.node_renderer.selection_glyph = Circle(size=5, fill_color=Spectral4[2])\r\n",
        "graph_renderer.node_renderer.hover_glyph = Circle(size=5, fill_color=Spectral4[1])\r\n",
        "graph_renderer.edge_renderer.glyph = MultiLine(line_color=\"#CCCCCC\", line_alpha=0.8,\r\n",
        "                                             line_width=5)\r\n",
        "graph_renderer.edge_renderer.selection_glyph = MultiLine(line_color=Spectral4[2],\r\n",
        "                                                       line_width=5)\r\n",
        "graph_renderer.edge_renderer.hover_glyph = MultiLine(line_color=Spectral4[1], line_width=5)\r\n",
        "graph_renderer.selection_policy = NodesAndLinkedEdges()\r\n",
        "graph_renderer.inspection_policy = EdgesAndLinkedNodes()\r\n",
        "plot.renderers.append(graph_renderer)\r\n",
        "output_notebook()\r\n",
        "show(plot)"
      ],
      "execution_count": null,
      "outputs": []
    },
    {
      "cell_type": "code",
      "metadata": {
        "id": "VjOzrFs7e7FL"
      },
      "source": [
        "nodesToRemove = [node for node in friendGraph.nodes if friendGraphStats[friendGraphStats['SimmerName'] != node].empty]\r\n",
        "friendGraph.remove_nodes_from(nodesToRemove)"
      ],
      "execution_count": null,
      "outputs": []
    },
    {
      "cell_type": "code",
      "metadata": {
        "id": "ZKQfO5YeUgHL"
      },
      "source": [
        "layoutDict = graph_renderer.layout_provider.properties_with_values()\r\n",
        "graphDict = layoutDict.get('graph_layout')\r\n",
        "nodes_coordinate = graphDict.values()\r\n",
        "nodes_coordinate = [x for x in nodes_coordinate]\r\n",
        "graphDf = pd.DataFrame.from_dict(graphDict, orient='index',columns=['x','y'])\r\n",
        "colorDf = pd.DataFrame.from_dict(nodeColor, orient='index',columns=['color'])\r\n",
        "nodeEdgeDf = pd.DataFrame.from_dict(nodeEdgeCount, orient='index',columns=['EdgeCountTo'])\r\n",
        "\r\n",
        "graphDf.reset_index(inplace=True)\r\n",
        "colorDf.reset_index(inplace=True)\r\n",
        "nodeEdgeDf.reset_index(inplace=True)\r\n",
        "\r\n",
        "nodeColorsDf = pd.merge(graphDf,colorDf,left_on='index',right_on='index')\r\n",
        "nodeColorsDf = pd.merge(nodeColorsDf, nodeEdgeDf, left_on='index',right_on='index')\r\n",
        "nodeColorsDf = pd.merge(nodeColorsDf,friendGraphStats, left_on='index', right_on='SimmerName')\r\n",
        "nodeColorsDf['SimmersName'] = nodeColorsDf['index']\r\n",
        "nodeColorsDf = nodeColorsDf.set_index('index')\r\n",
        "nodeColorsDf.drop(columns=['BetweenessCentrality', 'ClosenessCentrality','DegreeCentrality','EigenVectorCentrality',\r\n",
        "                           'HarmonicClosenessCentrality','IsInLiner','KatzCentrality','LocalClusteringCoefficient',\r\n",
        "                           'PageRank','SimmerName','created_at','favourites_count','listed_count','nodeId',\r\n",
        "                           'statuses_count','verified','EdgeCountTo'],axis=1, inplace=True)\r\n",
        "nodes_source = ColumnDataSource.from_df(nodeColorsDf)"
      ],
      "execution_count": null,
      "outputs": []
    },
    {
      "cell_type": "code",
      "metadata": {
        "id": "fiePR5gbWT3Y"
      },
      "source": [
        "plot = figure(plot_width=1000, plot_height=1000, x_range=Range1d(-1.1,1.1),\n",
        "            y_range=Range1d(-1.1,1.1))\n",
        "plot.title.text = \"Popular Simmer Friend Graph\"\n",
        "plot.add_tools(HoverTool(tooltips=[(\"SimmersName\", \"@SimmersName\"),(\"Account Age(D)\",\"@account_age_in_days\"), (\"Followers\", \"@followers_count\"),\n",
        "                                   (\"Friends\", \"@friends_count\"), (\"Popular Simmer Followers\", \"@edgesToPopularSimmers\")]),LassoSelectTool(),WheelZoomTool())\n",
        "\n",
        "uniqEdgeCounts.sort()\n",
        "for edges in uniqEdgeCounts:\n",
        "  circleDf = nodeColorsDf.loc[nodeColorsDf['edgesToPopularSimmers'] == edges]\n",
        "  plot.circle('x','y', source = ColumnDataSource.from_df(circleDf),size=10, fill_color='color',legend_label=str(edges))\n",
        "plot.legend.location = 'top_left'\n",
        "plot.legend.click_policy = 'hide'\n",
        "plot.legend.title='Edge Count'\n",
        "\n",
        "show(plot)"
      ],
      "execution_count": null,
      "outputs": []
    },
    {
      "cell_type": "markdown",
      "metadata": {
        "id": "SWjOa__ROo_6"
      },
      "source": [
        "##Conclusions\r\n",
        "Given the results of causal inference doWhy methods, I can not trust the results of either models that I trained to accurately predict the follower count from the data given. \r\n",
        "\r\n",
        "However, the analysis has yield some insights for next steps in my analysis. Using this data, it could be possible to segment the popular simmers by those they follow as a way to see how the different smaller communities of the simmer world intersect with each other. This way I can gain insights on the personality of the community as a whole. \r\n",
        "\r\n",
        "I can supplement this by adding the followers of these popular simmers to this graph. With this, I would like to see if there is a to do a 'Market Basket' analysis of the followers and who they choose to follow as well as who the popular simmers choose to follow. "
      ]
    }
  ]
}